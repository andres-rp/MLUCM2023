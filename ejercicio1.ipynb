{
  "nbformat": 4,
  "nbformat_minor": 0,
  "metadata": {
    "colab": {
      "provenance": [],
      "authorship_tag": "ABX9TyOGKO96tO/pu9w2ZkF5rAHt",
      "include_colab_link": true
    },
    "kernelspec": {
      "name": "python3",
      "display_name": "Python 3"
    },
    "language_info": {
      "name": "python"
    }
  },
  "cells": [
    {
      "cell_type": "markdown",
      "metadata": {
        "id": "view-in-github",
        "colab_type": "text"
      },
      "source": [
        "<a href=\"https://colab.research.google.com/github/andres-rp/MLUCM2023/blob/main/ejercicio1.ipynb\" target=\"_parent\"><img src=\"https://colab.research.google.com/assets/colab-badge.svg\" alt=\"Open In Colab\"/></a>"
      ]
    },
    {
      "cell_type": "code",
      "execution_count": null,
      "metadata": {
        "id": "Lbc7m7bwtg2X"
      },
      "outputs": [],
      "source": [
        "import numpy as np"
      ]
    },
    {
      "cell_type": "code",
      "source": [
        "lista = [5, 6, 2, 8, 9, 8, 4, 3, 11, 3, 5, 3, 12]"
      ],
      "metadata": {
        "id": "iWMSjY-M2FvH"
      },
      "execution_count": null,
      "outputs": []
    },
    {
      "cell_type": "code",
      "source": [
        "np.mean(lista)"
      ],
      "metadata": {
        "colab": {
          "base_uri": "https://localhost:8080/"
        },
        "id": "5Q0_iROp2LIN",
        "outputId": "f4d5ab9d-e682-4916-8cdd-a31876b7f011"
      },
      "execution_count": null,
      "outputs": [
        {
          "output_type": "execute_result",
          "data": {
            "text/plain": [
              "6.076923076923077"
            ]
          },
          "metadata": {},
          "execution_count": 55
        }
      ]
    },
    {
      "cell_type": "code",
      "source": [
        "listamayor = []\n",
        "for i in lista:\n",
        "    if i > 5:\n",
        "      listamayor.append(i)\n",
        "print(listamayor)"
      ],
      "metadata": {
        "colab": {
          "base_uri": "https://localhost:8080/"
        },
        "id": "21LKy6hW2Mf-",
        "outputId": "156c681e-c4e0-47a3-a05b-fa8426b8f42e"
      },
      "execution_count": null,
      "outputs": [
        {
          "output_type": "stream",
          "name": "stdout",
          "text": [
            "[6, 8, 9, 8, 11, 12]\n"
          ]
        }
      ]
    },
    {
      "cell_type": "code",
      "source": [
        "inv = list(reversed(lista))\n",
        "print(inv)"
      ],
      "metadata": {
        "colab": {
          "base_uri": "https://localhost:8080/"
        },
        "id": "MHJdbToV2wjE",
        "outputId": "0f68693a-3426-4e1e-f4e4-32bfafd24c73"
      },
      "execution_count": null,
      "outputs": [
        {
          "output_type": "stream",
          "name": "stdout",
          "text": [
            "[12, 3, 5, 3, 11, 3, 4, 8, 9, 8, 2, 6, 5]\n"
          ]
        }
      ]
    },
    {
      "cell_type": "code",
      "source": [
        "lista.sort()\n",
        "print(lista)\n"
      ],
      "metadata": {
        "colab": {
          "base_uri": "https://localhost:8080/"
        },
        "id": "CcjKmNmd6KXc",
        "outputId": "180ed453-b1a8-44d5-89ef-7631dc66b9f9"
      },
      "execution_count": null,
      "outputs": [
        {
          "output_type": "stream",
          "name": "stdout",
          "text": [
            "[2, 3, 3, 3, 4, 5, 5, 6, 8, 8, 9, 11, 12]\n"
          ]
        }
      ]
    },
    {
      "cell_type": "code",
      "source": [
        "listavalor = []\n",
        "for i in range(0,len(lista)):\n",
        "  listavalor.append(lista[i]*lista[i])\n",
        "\n",
        "diccionario = dict(zip(lista, listavalor))\n",
        "print(diccionario)\n",
        "\n",
        "\n"
      ],
      "metadata": {
        "colab": {
          "base_uri": "https://localhost:8080/"
        },
        "id": "Cr_G_WVM7TC2",
        "outputId": "2944d67d-74fa-4485-9697-308cc3ac56bd"
      },
      "execution_count": null,
      "outputs": [
        {
          "output_type": "stream",
          "name": "stdout",
          "text": [
            "{2: 4, 3: 9, 4: 16, 5: 25, 6: 36, 8: 64, 9: 81, 11: 121, 12: 144}\n"
          ]
        }
      ]
    },
    {
      "cell_type": "code",
      "source": [],
      "metadata": {
        "id": "Mc7UlTE48fsd"
      },
      "execution_count": null,
      "outputs": []
    }
  ]
}